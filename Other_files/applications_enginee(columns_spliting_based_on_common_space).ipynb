{
  "nbformat": 4,
  "nbformat_minor": 0,
  "metadata": {
    "colab": {
      "name": "applications enginee(columns spliting based on common space).ipynb",
      "provenance": [],
      "collapsed_sections": []
    },
    "kernelspec": {
      "name": "python3",
      "display_name": "Python 3"
    }
  },
  "cells": [
    {
      "cell_type": "code",
      "metadata": {
        "id": "tQEKvh8-cab2",
        "colab_type": "code",
        "colab": {}
      },
      "source": [
        "import re\n",
        "import pandas as pd\n",
        "from nltk import flatten"
      ],
      "execution_count": null,
      "outputs": []
    },
    {
      "cell_type": "code",
      "metadata": {
        "id": "xi9X2q-5chUJ",
        "colab_type": "code",
        "colab": {
          "base_uri": "https://localhost:8080/",
          "height": 34
        },
        "outputId": "ed132318-2892-432a-e182-3c5b2dc8917b"
      },
      "source": [
        "s1=  \"\"\"Header1    Header2    Header3    Header4\\n \\\n",
        "hvae0111   hvalue002  hvalue003  hvalue004\\n \\\n",
        "hvalue011  hvalue012  hvalue013  hvalue014\\n \\\n",
        "hvalue021  hvalue022  hvalue033  hvalue044\\n \\\n",
        "hvalue031  hvalue032  hvalue033  hvalue044\\n \\\n",
        "hvalue041  hvalue042  hvalue033  hvalue044\\n\"\"\"\n",
        "\n",
        "    \n",
        "   \n",
        "s2=  \"\"\"Header1    Header2    Header3    Header4\\n \\\n",
        "hva  e011  hvalue002  hvalue003  hvalue004\\n \\\n",
        "hvalue011  hvalue012  hvalue013  hvalue014\\n \\\n",
        "hvalue021  hvalue022  hvalue033  hvalue044\\n \\\n",
        "hvalue031  hvalue032  hvalue033  hvalue044\\n \\\n",
        "hvalue041  hvalue042  hvalue033  hvalue044\\n\"\"\"\n",
        "    \n",
        "    \n",
        "    \n",
        "    \n",
        "s3=  \"\"\"Header1       Header2    Header3    Header4\\n \\\n",
        "hva  e011  hvalue002  hvalue003  hvalue004\\n \\\n",
        "hvalue011  hvalue012  hvalue013  hvalue014\\n \\\n",
        "hvalue021  hvalue022  hvalue033  hvalue044\\n \\\n",
        "hvalue031  hvalue032  hvalue033  hvalue044\\n \\\n",
        "hvalue041  hvalue042  hvalue033  hvalue044\\n\"\"\"\n",
        "    \n",
        "    \n",
        "    \n",
        "s4=   \"\"\"HeaderA    HeaderB    Header3    Header4\\n\\\n",
        "hva 011A   a alue00C  gval e00F  hv ue 04\\n\\\n",
        "hval e01A  bv lue01D  dv lue01G  hvalu 01M\\n\\\n",
        "h lue02A   cvalu 02F  gvalu 03H  hvalu 04N\\n\\\n",
        "hv lue03A  dvalu 03G  vve033     hva ue04u\\n\\\n",
        "hvalueA    hvalue2    bva ue033  hval e044\\n\"\"\"\n",
        "\n",
        "\n",
        "\n",
        "s5=   \"\"\"HeaderA       HeaderB    Header3    Header4\\n\\\n",
        "hva 011A   a alue00C  gval e00F  hv ue 04\\n\\\n",
        "hval e01A  bv lue01D  dv lue01G  hvalu 01M\\n\n",
        "h lue02A   cvalu 02F  gvalu 03H  hvalu 04N\\n\\\n",
        "hv lue03A  dvalu 03G  vve033     hva ue04u\\n \"\"\" \n",
        "\n",
        "\n",
        "# shivam@instabase.com?\n",
        "\n",
        "\n",
        "'''\n",
        "    \n",
        "result = [\n",
        "    {\n",
        "        'Header1': 'hvae0111',\n",
        "        'Header2': 'hvalue002',\n",
        "        ...\n",
        "    },\n",
        "    {\n",
        "        'Header1': 'hvalue002',\n",
        "        'Header2': 'hvalue012',\n",
        "        ...\n",
        "    },\n",
        "    {\n",
        "        'Header1': 'hvalue003',\n",
        "        'Header2': 'hvalue013',\n",
        "        ...    \n",
        "    },\n",
        "]\n",
        "'''\n",
        "\n",
        "\n",
        "print('applications engineer')"
      ],
      "execution_count": null,
      "outputs": [
        {
          "output_type": "stream",
          "text": [
            "applications engineer\n"
          ],
          "name": "stdout"
        }
      ]
    },
    {
      "cell_type": "code",
      "metadata": {
        "id": "6TYQQPhWckEC",
        "colab_type": "code",
        "colab": {
          "base_uri": "https://localhost:8080/",
          "height": 34
        },
        "outputId": "a402aa5e-d499-4e9d-d9b8-f24f5a9be4eb"
      },
      "source": [
        "s5.replace(\"\", \"\").replace('\\\"','').replace('//', '')"
      ],
      "execution_count": null,
      "outputs": [
        {
          "output_type": "execute_result",
          "data": {
            "text/plain": [
              "'HeaderA       HeaderB    Header3    Header4\\nhva 011A   a alue00C  gval e00F  hv ue 04\\nhval e01A  bv lue01D  dv lue01G  hvalu 01M\\n\\nh lue02A   cvalu 02F  gvalu 03H  hvalu 04N\\nhv lue03A  dvalu 03G  vve033     hva ue04u\\n '"
            ]
          },
          "metadata": {
            "tags": []
          },
          "execution_count": 3
        }
      ]
    },
    {
      "cell_type": "code",
      "metadata": {
        "id": "DwSIR6dqcpWM",
        "colab_type": "code",
        "colab": {}
      },
      "source": [
        "string = s4.split('\\n')"
      ],
      "execution_count": null,
      "outputs": []
    },
    {
      "cell_type": "code",
      "metadata": {
        "id": "b8An_yJRctS_",
        "colab_type": "code",
        "colab": {
          "base_uri": "https://localhost:8080/",
          "height": 141
        },
        "outputId": "a5f5ad88-c324-4fd2-f2be-913e8ad76b91"
      },
      "source": [
        "string"
      ],
      "execution_count": null,
      "outputs": [
        {
          "output_type": "execute_result",
          "data": {
            "text/plain": [
              "['HeaderA    HeaderB    Header3    Header4',\n",
              " 'hva 011A   a alue00C  gval e00F  hv ue 04',\n",
              " 'hval e01A  bv lue01D  dv lue01G  hvalu 01M',\n",
              " 'h lue02A   cvalu 02F  gvalu 03H  hvalu 04N',\n",
              " 'hv lue03A  dvalu 03G  vve033     hva ue04u',\n",
              " 'hvalueA    hvalue2    bva ue033  hval e044',\n",
              " '']"
            ]
          },
          "metadata": {
            "tags": []
          },
          "execution_count": 5
        }
      ]
    },
    {
      "cell_type": "code",
      "metadata": {
        "id": "32fhLLzIcu_x",
        "colab_type": "code",
        "colab": {}
      },
      "source": [
        "regex = r\"\\s+\"\n",
        "\n",
        "list_len = 0\n",
        "whight_space = list()\n",
        "for line in string:\n",
        "    \n",
        "    single_line = list()\n",
        "    matches = re.finditer(regex, line, re.MULTILINE)\n",
        "\n",
        "    for matchNum, match in enumerate(matches, start=1):\n",
        "        start = match.start()\n",
        "        end = match.end()\n",
        "        single_line.append([i for i in range(start, end)])\n",
        "    if len(single_line)>list_len:\n",
        "        list_len = len(single_line)\n",
        "\n",
        "    whight_space.append(single_line)"
      ],
      "execution_count": null,
      "outputs": []
    },
    {
      "cell_type": "code",
      "metadata": {
        "id": "5fP1bt8Oczm0",
        "colab_type": "code",
        "colab": {}
      },
      "source": [
        "space_index = set(flatten(whight_space[1:]))\n",
        "indices = list()\n",
        "for i in whight_space[0]:\n",
        "    overlap = sorted(list(set(i).intersection(space_index)))\n",
        "    indices.append(overlap[0])"
      ],
      "execution_count": null,
      "outputs": []
    },
    {
      "cell_type": "code",
      "metadata": {
        "id": "s_9SOAmXc2B3",
        "colab_type": "code",
        "colab": {}
      },
      "source": [
        "results = list()\n",
        "\n",
        "for ind, s in enumerate(string):      \n",
        "    start = 0\n",
        "    list_of_header = list()\n",
        "    indices.append(len(s))\n",
        "    for index in indices:\n",
        "        list_of_header.append(s[start: index].strip())\n",
        "        start = index\n",
        "    \n",
        "    if ind==0:\n",
        "        df = pd.DataFrame(columns=list_of_header)\n",
        "    else:\n",
        "        results.append([{df.columns.tolist()[i]:list_of_header[i]} for i in range(len(indices)) if len(list_of_header[i])] )\n",
        "    indices.remove(len(s))\n",
        "results  =  [i for i in results if len(i)]  \n",
        "# parts = [s[:index] for index in indices]"
      ],
      "execution_count": null,
      "outputs": []
    },
    {
      "cell_type": "code",
      "metadata": {
        "id": "Fs51hGU6c6bU",
        "colab_type": "code",
        "colab": {
          "base_uri": "https://localhost:8080/",
          "height": 372
        },
        "outputId": "350818e2-c4e6-4a03-bc07-e7d5d91288a7"
      },
      "source": [
        "results"
      ],
      "execution_count": null,
      "outputs": [
        {
          "output_type": "execute_result",
          "data": {
            "text/plain": [
              "[[{'HeaderA': 'hva 011'},\n",
              "  {'HeaderB': 'A   a alue0'},\n",
              "  {'Header3': '0C  gval e0'},\n",
              "  {'Header4': '0F  hv ue 04'}],\n",
              " [{'HeaderA': 'hval e0'},\n",
              "  {'HeaderB': '1A  bv lue0'},\n",
              "  {'Header3': '1D  dv lue0'},\n",
              "  {'Header4': '1G  hvalu 01M'}],\n",
              " [{'HeaderA': 'h lue02'},\n",
              "  {'HeaderB': 'A   cvalu 0'},\n",
              "  {'Header3': '2F  gvalu 0'},\n",
              "  {'Header4': '3H  hvalu 04N'}],\n",
              " [{'HeaderA': 'hv lue0'},\n",
              "  {'HeaderB': '3A  dvalu 0'},\n",
              "  {'Header3': '3G  vve033'},\n",
              "  {'Header4': 'hva ue04u'}],\n",
              " [{'HeaderA': 'hvalueA'},\n",
              "  {'HeaderB': 'hvalue2'},\n",
              "  {'Header3': 'bva ue0'},\n",
              "  {'Header4': '33  hval e044'}]]"
            ]
          },
          "metadata": {
            "tags": []
          },
          "execution_count": 9
        }
      ]
    },
    {
      "cell_type": "code",
      "metadata": {
        "id": "1otLom0pc9rU",
        "colab_type": "code",
        "colab": {}
      },
      "source": [
        ""
      ],
      "execution_count": null,
      "outputs": []
    }
  ]
}